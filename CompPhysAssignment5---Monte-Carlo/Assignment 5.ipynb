{
 "cells": [
  {
   "cell_type": "markdown",
   "metadata": {
    "deletable": false,
    "editable": false,
    "nbgrader": {
     "cell_type": "markdown",
     "checksum": "fea628d4ea18cfeebae578b887e149b9",
     "grade": false,
     "grade_id": "cell-0867630144920503",
     "locked": true,
     "schema_version": 3,
     "solution": false
    }
   },
   "source": [
    "# <center>L2 Computational Physics</center>\n",
    "---\n",
    "\n",
    "## Week 5: Monte Carlo Methods\n",
    "\n",
    "In this notebook, you will write a program that employs analytical, ODE, and Monte Carlo methods to simulate the progression of a collection of atoms through the radioactive decay channel $^{225}\\textrm{Ra} \\rightarrow~^{225}\\textrm{Ac} \\rightarrow~^{221}\\textrm{Fr}$"
   ]
  },
  {
   "cell_type": "code",
   "execution_count": 1,
   "metadata": {
    "deletable": false,
    "editable": false,
    "nbgrader": {
     "cell_type": "code",
     "checksum": "3a64d74555cf0a821f70f53b85f8750c",
     "grade": false,
     "grade_id": "cell-79b49b449ef54a80",
     "locked": true,
     "schema_version": 3,
     "solution": false
    }
   },
   "outputs": [],
   "source": [
    "import numpy\n",
    "from matplotlib import pyplot as plt\n",
    "from random import uniform\n",
    "import random\n",
    "from scipy.integrate import odeint"
   ]
  },
  {
   "cell_type": "code",
   "execution_count": 2,
   "metadata": {
    "deletable": false,
    "editable": false,
    "nbgrader": {
     "cell_type": "code",
     "checksum": "0c695ec90cae25df03f0d9e42f52b0ec",
     "grade": false,
     "grade_id": "cell-9efceaad412b0b16",
     "locked": true,
     "schema_version": 3,
     "solution": false
    }
   },
   "outputs": [],
   "source": [
    "# Define all constants to be used in the simulation\n",
    "t_half_ra = 20.8 # Half life of Ra-225 in days\n",
    "t_half_ac = 10.0 # Half life of Ac-225 in days\n",
    "N0 = 250  # Initial number of Ra-225 atoms\n",
    "t1 = 100.  # End time for simulation in days\n",
    "n_time = 50  # Number of timepoints to use"
   ]
  },
  {
   "cell_type": "markdown",
   "metadata": {
    "deletable": false,
    "editable": false,
    "nbgrader": {
     "cell_type": "markdown",
     "checksum": "48aac831c678616eef955408260e645d",
     "grade": false,
     "grade_id": "cell-e2eb11ca2dec5c24",
     "locked": true,
     "schema_version": 3,
     "solution": false
    }
   },
   "source": [
    "Firstly, analytically derive the number of $^{225}\\textrm{Ra}$ atoms at each timepoint in the continuum limit. Implement this in the function `analytical(n0, t)`."
   ]
  },
  {
   "cell_type": "code",
   "execution_count": 3,
   "metadata": {
    "deletable": false,
    "nbgrader": {
     "cell_type": "code",
     "checksum": "1c86684638146bdea337e95035147ce3",
     "grade": false,
     "grade_id": "analytical",
     "locked": false,
     "schema_version": 3,
     "solution": true,
     "task": false
    }
   },
   "outputs": [],
   "source": [
    "def analytical(n0, t):\n",
    "    return n0*(0.5)**(t/t_half_ra)"
   ]
  },
  {
   "cell_type": "markdown",
   "metadata": {
    "deletable": false,
    "editable": false,
    "nbgrader": {
     "cell_type": "markdown",
     "checksum": "ede8659b24db6e7dcdb32c5cff1b99ec",
     "grade": false,
     "grade_id": "cell-220dd943af055487",
     "locked": true,
     "schema_version": 3,
     "solution": false
    }
   },
   "source": [
    "Check your answer:"
   ]
  },
  {
   "cell_type": "code",
   "execution_count": 4,
   "metadata": {
    "deletable": false,
    "editable": false,
    "nbgrader": {
     "cell_type": "code",
     "checksum": "1fc55128d2e8d928c867db82d86aea42",
     "grade": true,
     "grade_id": "analytical_test",
     "locked": true,
     "points": 2,
     "schema_version": 3,
     "solution": false
    }
   },
   "outputs": [],
   "source": [
    "assert numpy.isclose(analytical(N0, t1), 8.926483655724745)"
   ]
  },
  {
   "cell_type": "markdown",
   "metadata": {
    "deletable": false,
    "editable": false,
    "nbgrader": {
     "cell_type": "markdown",
     "checksum": "56f239daa6c53d7fb4d48af188271daa",
     "grade": false,
     "grade_id": "cell-8fc424548b449218",
     "locked": true,
     "schema_version": 3,
     "solution": false,
     "task": false
    }
   },
   "source": [
    "Implement a function that tells whether a decay has occured, based on the probability for the decay and a random number. Use the random number `r` from `random.random()` so that the checks can work in a reproducible way."
   ]
  },
  {
   "cell_type": "code",
   "execution_count": 11,
   "metadata": {
    "deletable": false,
    "nbgrader": {
     "cell_type": "code",
     "checksum": "7b90b25e34afdaa365025b07f6f50a00",
     "grade": false,
     "grade_id": "decay_function",
     "locked": false,
     "schema_version": 3,
     "solution": true,
     "task": false
    }
   },
   "outputs": [],
   "source": [
    "def has_decayed(prob):\n",
    "    r = random.random()\n",
    "    if prob > r:\n",
    "        return True\n",
    "    else:\n",
    "        return False"
   ]
  },
  {
   "cell_type": "code",
   "execution_count": 12,
   "metadata": {
    "deletable": false,
    "editable": false,
    "nbgrader": {
     "cell_type": "code",
     "checksum": "91d0c51798f471dea152f1f75300ed33",
     "grade": true,
     "grade_id": "decay_function_test",
     "locked": true,
     "points": 2,
     "schema_version": 3,
     "solution": false,
     "task": false
    }
   },
   "outputs": [],
   "source": [
    "random.seed(9867)\n",
    "assert [ has_decayed(0.5) for i in range(10)] == [False, False, True, False, False, False, False, True, False, True]"
   ]
  },
  {
   "cell_type": "markdown",
   "metadata": {
    "deletable": false,
    "editable": false,
    "nbgrader": {
     "cell_type": "markdown",
     "checksum": "425cae4c291ca2a644659e6c1077529c",
     "grade": false,
     "grade_id": "cell-2145274701a17ae6",
     "locked": true,
     "schema_version": 3,
     "solution": false,
     "task": false
    }
   },
   "source": [
    "We are going to keep track of the state of the atoms using a list that will contain either `'Ra'`, `'Ac'` or `Fr` for each atom. For example \n",
    "```python\n",
    "state = ['Ra', 'Ra', 'Ac']\n",
    "```\n",
    "Define a function that takes such a state and implements the decay of an `initial` type of atoms into a new type `final` with probability `prob` and returns the new state"
   ]
  },
  {
   "cell_type": "code",
   "execution_count": 36,
   "metadata": {
    "deletable": false,
    "nbgrader": {
     "cell_type": "code",
     "checksum": "63b52105ea0c7be671014d46c8fd1a0c",
     "grade": false,
     "grade_id": "evolve_function",
     "locked": false,
     "schema_version": 3,
     "solution": true,
     "task": false
    }
   },
   "outputs": [],
   "source": [
    "def evolve(state, initial, final, prob):\n",
    "    length = len(state)\n",
    "    for i in range(length):\n",
    "        if state[i]==initial:\n",
    "            if has_decayed(prob):\n",
    "                state[i]=final\n",
    "            else:\n",
    "                length=length\n",
    "        else:\n",
    "            length=length\n",
    "    return state"
   ]
  },
  {
   "cell_type": "code",
   "execution_count": 37,
   "metadata": {
    "deletable": false,
    "editable": false,
    "nbgrader": {
     "cell_type": "code",
     "checksum": "39bd8808b80cdd460ebd601774dddb60",
     "grade": true,
     "grade_id": "evolve_function_test",
     "locked": true,
     "points": 5,
     "schema_version": 3,
     "solution": false,
     "task": false
    }
   },
   "outputs": [],
   "source": [
    "# check that we only decay the initial atoms\n",
    "assert evolve(['Ra']*10, 'notRa', 'Ac', 0.5) == (['Ra']*10)\n",
    "# check that if prob = 1 all decay\n",
    "assert evolve(['Ra']*10, 'Ra', 'Ac', 1.0) == (['Ac'])*10\n",
    "# check that if prob = 0 none decay\n",
    "assert evolve(['Ra']*10, 'Ra', 'Ac', 0.0) == (['Ra'])*10\n",
    "random.seed(3927)\n",
    "assert evolve(['Ra']*10, 'Ra', 'Ac', 0.5) == ['Ra', 'Ac', 'Ac', 'Ac', 'Ra', 'Ra', 'Ac', 'Ra', 'Ac', 'Ac']"
   ]
  },
  {
   "cell_type": "markdown",
   "metadata": {
    "deletable": false,
    "editable": false,
    "nbgrader": {
     "cell_type": "markdown",
     "checksum": "edca1bd168aab42ffc2c43e45a65db23",
     "grade": false,
     "grade_id": "cell-4ffbe8df7a50fafb",
     "locked": true,
     "schema_version": 3,
     "solution": false,
     "task": false
    }
   },
   "source": [
    "Define a function that evolves a system that starts with `N0` Radon atoms and evolved it in `n_timestep` from time $t=0$ to $t=t_{max}$. The function should return three arrays, one for each atom type. Each array should contain `n_timestep+1` elements including the initial amount. \n",
    "\n",
    "In order for the marking system to work make sure you update the `Ra` atoms first, the `Ac` next and the `Fr` atoms last. "
   ]
  },
  {
   "cell_type": "code",
   "execution_count": 42,
   "metadata": {
    "deletable": false,
    "nbgrader": {
     "cell_type": "code",
     "checksum": "eee3ab3e22bec1a3468f9dff0292f388",
     "grade": false,
     "grade_id": "evolve_system",
     "locked": false,
     "schema_version": 3,
     "solution": true,
     "task": false
    }
   },
   "outputs": [],
   "source": [
    "def evolve_system(tmax, n_timestep):\n",
    "    state = ['Ra'] * N0\n",
    "    timestep = tmax/n_timestep\n",
    "    TauRa = t_half_ra*1.44269504\n",
    "    TauAc = t_half_ac*1.44269504\n",
    "    ProbRa = (1/TauRa)*numpy.exp(-timestep/TauRa)\n",
    "    ProbAc = (1/TauAc)*numpy.exp(-timestep/TauAc)\n",
    "    ra_count = numpy.empty(n_timestep + 1, dtype=int)\n",
    "    ac_count = numpy.empty(n_timestep + 1, dtype=int)\n",
    "    fr_count = numpy.empty(n_timestep + 1, dtype=int)\n",
    "    ra_count[0] = N0\n",
    "    ac_count[0] = 0\n",
    "    fr_count[0] = 0\n",
    "    for i in range (1,n_timestep+1):\n",
    "        state1 = evolve(state,'Ra','Ac',ProbRa)\n",
    "        state = evolve(state1,'Ac','Fr',ProbAc)\n",
    "        ra_count[i] = list(state).count('Ra')\n",
    "        ac_count[i] = list(state).count('Ac')\n",
    "        fr_count[i] = list(state).count('Fr')\n",
    "    \n",
    "    return ra_count, ac_count, fr_count"
   ]
  },
  {
   "cell_type": "code",
   "execution_count": 45,
   "metadata": {
    "deletable": false,
    "editable": false,
    "nbgrader": {
     "cell_type": "code",
     "checksum": "209b68cb04639563577fc79668100390",
     "grade": true,
     "grade_id": "evolve_system_length",
     "locked": true,
     "points": 1,
     "schema_version": 3,
     "solution": false,
     "task": false
    }
   },
   "outputs": [],
   "source": [
    "r1, r2, r3 = evolve_system(10, 17)\n",
    "assert len(r1) == 18\n",
    "assert len(r2) == 18\n",
    "assert len(r3) == 18"
   ]
  },
  {
   "cell_type": "code",
   "execution_count": 46,
   "metadata": {
    "deletable": false,
    "editable": false,
    "nbgrader": {
     "cell_type": "code",
     "checksum": "7dc859949a1b14c58dce27509d3e84f9",
     "grade": true,
     "grade_id": "evolve_system_values",
     "locked": true,
     "points": 3,
     "schema_version": 3,
     "solution": false,
     "task": false
    }
   },
   "outputs": [
    {
     "ename": "AssertionError",
     "evalue": "",
     "output_type": "error",
     "traceback": [
      "\u001b[0;31m---------------------------------------------------------------------------\u001b[0m",
      "\u001b[0;31mAssertionError\u001b[0m                            Traceback (most recent call last)",
      "\u001b[0;32m<ipython-input-46-0c4d6920df48>\u001b[0m in \u001b[0;36m<module>\u001b[0;34m()\u001b[0m\n\u001b[1;32m      1\u001b[0m \u001b[0mrandom\u001b[0m\u001b[0;34m.\u001b[0m\u001b[0mseed\u001b[0m\u001b[0;34m(\u001b[0m\u001b[0;36m9485\u001b[0m\u001b[0;34m)\u001b[0m\u001b[0;34m\u001b[0m\u001b[0m\n\u001b[1;32m      2\u001b[0m \u001b[0mr1\u001b[0m\u001b[0;34m,\u001b[0m \u001b[0mr2\u001b[0m\u001b[0;34m,\u001b[0m \u001b[0mr3\u001b[0m \u001b[0;34m=\u001b[0m \u001b[0mevolve_system\u001b[0m\u001b[0;34m(\u001b[0m\u001b[0;36m10\u001b[0m\u001b[0;34m,\u001b[0m \u001b[0;36m10\u001b[0m\u001b[0;34m)\u001b[0m\u001b[0;34m\u001b[0m\u001b[0m\n\u001b[0;32m----> 3\u001b[0;31m \u001b[0;32massert\u001b[0m \u001b[0;34m(\u001b[0m\u001b[0mr1\u001b[0m \u001b[0;34m==\u001b[0m \u001b[0;34m[\u001b[0m\u001b[0;36m250\u001b[0m\u001b[0;34m,\u001b[0m \u001b[0;36m239\u001b[0m\u001b[0;34m,\u001b[0m \u001b[0;36m229\u001b[0m\u001b[0;34m,\u001b[0m \u001b[0;36m222\u001b[0m\u001b[0;34m,\u001b[0m \u001b[0;36m216\u001b[0m\u001b[0;34m,\u001b[0m \u001b[0;36m208\u001b[0m\u001b[0;34m,\u001b[0m \u001b[0;36m203\u001b[0m\u001b[0;34m,\u001b[0m \u001b[0;36m197\u001b[0m\u001b[0;34m,\u001b[0m \u001b[0;36m190\u001b[0m\u001b[0;34m,\u001b[0m \u001b[0;36m183\u001b[0m\u001b[0;34m,\u001b[0m \u001b[0;36m179\u001b[0m\u001b[0;34m]\u001b[0m\u001b[0;34m)\u001b[0m\u001b[0;34m.\u001b[0m\u001b[0mall\u001b[0m\u001b[0;34m(\u001b[0m\u001b[0;34m)\u001b[0m\u001b[0;34m\u001b[0m\u001b[0m\n\u001b[0m\u001b[1;32m      4\u001b[0m \u001b[0;32massert\u001b[0m \u001b[0;34m(\u001b[0m\u001b[0mr2\u001b[0m \u001b[0;34m==\u001b[0m \u001b[0;34m[\u001b[0m \u001b[0;36m0\u001b[0m\u001b[0;34m,\u001b[0m \u001b[0;36m11\u001b[0m\u001b[0;34m,\u001b[0m \u001b[0;36m21\u001b[0m\u001b[0;34m,\u001b[0m \u001b[0;36m24\u001b[0m\u001b[0;34m,\u001b[0m \u001b[0;36m28\u001b[0m\u001b[0;34m,\u001b[0m \u001b[0;36m31\u001b[0m\u001b[0;34m,\u001b[0m \u001b[0;36m35\u001b[0m\u001b[0;34m,\u001b[0m \u001b[0;36m38\u001b[0m\u001b[0;34m,\u001b[0m \u001b[0;36m44\u001b[0m\u001b[0;34m,\u001b[0m \u001b[0;36m49\u001b[0m\u001b[0;34m,\u001b[0m \u001b[0;36m53\u001b[0m\u001b[0;34m]\u001b[0m\u001b[0;34m)\u001b[0m\u001b[0;34m.\u001b[0m\u001b[0mall\u001b[0m\u001b[0;34m(\u001b[0m\u001b[0;34m)\u001b[0m\u001b[0;34m\u001b[0m\u001b[0m\n\u001b[1;32m      5\u001b[0m \u001b[0;32massert\u001b[0m \u001b[0;34m(\u001b[0m\u001b[0mr3\u001b[0m \u001b[0;34m==\u001b[0m \u001b[0;34m[\u001b[0m \u001b[0;36m0\u001b[0m\u001b[0;34m,\u001b[0m  \u001b[0;36m0\u001b[0m\u001b[0;34m,\u001b[0m  \u001b[0;36m0\u001b[0m\u001b[0;34m,\u001b[0m  \u001b[0;36m4\u001b[0m\u001b[0;34m,\u001b[0m  \u001b[0;36m6\u001b[0m\u001b[0;34m,\u001b[0m \u001b[0;36m11\u001b[0m\u001b[0;34m,\u001b[0m \u001b[0;36m12\u001b[0m\u001b[0;34m,\u001b[0m \u001b[0;36m15\u001b[0m\u001b[0;34m,\u001b[0m \u001b[0;36m16\u001b[0m\u001b[0;34m,\u001b[0m \u001b[0;36m18\u001b[0m\u001b[0;34m,\u001b[0m \u001b[0;36m18\u001b[0m\u001b[0;34m]\u001b[0m\u001b[0;34m)\u001b[0m\u001b[0;34m.\u001b[0m\u001b[0mall\u001b[0m\u001b[0;34m(\u001b[0m\u001b[0;34m)\u001b[0m\u001b[0;34m\u001b[0m\u001b[0m\n",
      "\u001b[0;31mAssertionError\u001b[0m: "
     ]
    }
   ],
   "source": [
    "random.seed(9485)\n",
    "r1, r2, r3 = evolve_system(10, 10)\n",
    "assert (r1 == [250, 239, 229, 222, 216, 208, 203, 197, 190, 183, 179]).all()\n",
    "assert (r2 == [ 0, 11, 21, 24, 28, 31, 35, 38, 44, 49, 53]).all()\n",
    "assert (r3 == [ 0,  0,  0,  4,  6, 11, 12, 15, 16, 18, 18]).all()"
   ]
  },
  {
   "cell_type": "markdown",
   "metadata": {},
   "source": [
    "## Plotting tasks"
   ]
  },
  {
   "cell_type": "markdown",
   "metadata": {
    "deletable": false,
    "editable": false,
    "nbgrader": {
     "cell_type": "markdown",
     "checksum": "69bd07f83b5b27f8948d8e3692281e4a",
     "grade": false,
     "grade_id": "system_plot",
     "locked": true,
     "points": 4,
     "schema_version": 3,
     "solution": false,
     "task": true
    }
   },
   "source": [
    "Create a plot with the number of Ra, Ac and Fr atoms, starting with `N0` Ra atoms and evolving the system for 100 hours using 1000 steps. The plot should have labels, a legend and a title.    \n"
   ]
  },
  {
   "cell_type": "code",
   "execution_count": null,
   "metadata": {},
   "outputs": [],
   "source": [
    "nsteps = 1000\n",
    "ra, ac, fr = evolve_system(100, nsteps)\n",
    "ts = numpy.linspace(0,100,nsteps+1)\n",
    "plt.plot(ts,ra, label='Ra')\n",
    "plt.plot(ts,ac, label='Ac')\n",
    "plt.plot(ts,fr, label='Fr')\n",
    "plt.legend()\n",
    "plt.xlabel('time [h]')\n",
    "plt.ylabel('Number of atoms');"
   ]
  },
  {
   "cell_type": "markdown",
   "metadata": {
    "deletable": false,
    "editable": false,
    "nbgrader": {
     "cell_type": "markdown",
     "checksum": "31e6498848e539fa0ec6648fb991f95b",
     "grade": false,
     "grade_id": "average_uncertainty_plot",
     "locked": true,
     "points": 3,
     "schema_version": 3,
     "solution": false,
     "task": true
    }
   },
   "source": [
    "Run the simulation 100 times with 100 steps and use the results to calculate an average and the uncertainty on the number of Fr atoms as a function of time. Use and `errorbar` plot for it. You might be interested in the `numpy.average` and `numpy.std` functions. The plot should have axis labels and a title.  \n"
   ]
  },
  {
   "cell_type": "code",
   "execution_count": null,
   "metadata": {},
   "outputs": [],
   "source": [
    "nsteps = 50\n",
    "ts = numpy.linspace(0,100,nsteps+1)\n",
    "\n",
    "values = numpy.empty( (100,nsteps+1))\n",
    "for i in range(100):\n",
    "    ra, ac, fr = evolve_system(100, nsteps)\n",
    "    values[i] = fr\n",
    "\n",
    "averages = numpy.average(values, axis=0)\n",
    "uncertainties = numpy.std(values, axis=0)\n",
    "plt.errorbar(ts,averages, yerr=uncertainties, color='b', alpha=0.4);"
   ]
  },
  {
   "cell_type": "code",
   "execution_count": null,
   "metadata": {},
   "outputs": [],
   "source": [
    "nsteps = 150\n",
    "ts = numpy.linspace(0,100,nsteps+1)\n",
    "for i in range(100):\n",
    "    ra, ac, fr = evolve_system(100, nsteps)\n",
    "    plt.plot(ts,fr, color='b', alpha=0.04)"
   ]
  }
 ],
 "metadata": {
  "kernelspec": {
   "display_name": "Python 3",
   "language": "python",
   "name": "python3"
  },
  "toc": {
   "base_numbering": 1,
   "nav_menu": {},
   "number_sections": false,
   "sideBar": true,
   "skip_h1_title": false,
   "title_cell": "Table of Contents",
   "title_sidebar": "Contents",
   "toc_cell": false,
   "toc_position": {},
   "toc_section_display": true,
   "toc_window_display": false
  }
 },
 "nbformat": 4,
 "nbformat_minor": 2
}
